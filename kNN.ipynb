{
 "cells": [
  {
   "cell_type": "code",
   "execution_count": 79,
   "id": "94aa4f32",
   "metadata": {},
   "outputs": [],
   "source": [
    "import pandas\n",
    "from sklearn.impute import KNNImputer\n",
    "from sklearn.preprocessing import StandardScaler, RobustScaler\n",
    "from sklearn.neighbors import KNeighborsClassifier\n",
    "from sklearn.pipeline import Pipeline\n",
    "from sklearn.model_selection import train_test_split\n",
    "from sklearn.metrics import classification_report, confusion_matrix"
   ]
  },
  {
   "cell_type": "code",
   "execution_count": 80,
   "id": "5f0a17fa",
   "metadata": {},
   "outputs": [],
   "source": [
    "trainData = pandas.read_csv(\"NHANES_Data_P1_MI_train.csv\")\n",
    "testData = pandas.read_csv(\"NHANES_Data_P1_MI_test.csv\")"
   ]
  },
  {
   "cell_type": "code",
   "execution_count": 81,
   "id": "b3eda777",
   "metadata": {},
   "outputs": [],
   "source": [
    "# Remove rows that have missing \"MI\"\n",
    "trainData = trainData.dropna(subset=[\"MI\"])\n",
    "\n",
    "# drop columns that are not needed\n",
    "trainData = trainData.drop(columns = [\"ID\", \"Income\", \"Edu\", \"Insurance\"])\n"
   ]
  },
  {
   "cell_type": "code",
   "execution_count": 82,
   "id": "52ad6873",
   "metadata": {},
   "outputs": [],
   "source": [
    "# clean data\n",
    "imputer = KNNImputer(n_neighbors=10)\n",
    "imputerTrainData = imputer.fit_transform(trainData)\n",
    "\n",
    "imputerTrainData = pandas.DataFrame(imputerTrainData, columns=trainData.columns)"
   ]
  },
  {
   "cell_type": "code",
   "execution_count": 83,
   "id": "78b3abd8",
   "metadata": {},
   "outputs": [],
   "source": [
    "# Prepare the data\n",
    "x = imputerTrainData[[\"Sex\", \"Age\", \"Race\", \"Systolic\", \"Diastolic\", \"Pulse\", \"BMI\", \"HDL\", \"Trig\", \"LDL\", \"TCHOL\", \"eGFR\", \"CurrentSmoker\", \"Diabetes\"]]\n",
    "y = imputerTrainData[[\"MI\"]]\n"
   ]
  },
  {
   "cell_type": "code",
   "execution_count": 84,
   "id": "0f5f3217",
   "metadata": {},
   "outputs": [],
   "source": [
    "xTrain, xTest, yTrain, yTest = train_test_split(x, y, test_size=0.2, random_state=42)"
   ]
  },
  {
   "cell_type": "code",
   "execution_count": 85,
   "id": "e301c7ad",
   "metadata": {},
   "outputs": [],
   "source": [
    "# scale data\n",
    "scaler = RobustScaler()\n",
    "# fit_transform for train and transform for test\n",
    "scaledXTrainData = scaler.fit_transform(xTrain)\n",
    "scaledXTestData = scaler.transform(xTest)"
   ]
  },
  {
   "cell_type": "code",
   "execution_count": 86,
   "id": "9b834899",
   "metadata": {},
   "outputs": [
    {
     "name": "stdout",
     "output_type": "stream",
     "text": [
      "\n",
      " [[0.         1.        ]\n",
      " [0.00990099 0.99009901]\n",
      " [0.01980198 0.98019802]\n",
      " ...\n",
      " [0.10891089 0.89108911]\n",
      " [0.06930693 0.93069307]\n",
      " [0.         1.        ]]\n"
     ]
    }
   ],
   "source": [
    "knn = KNeighborsClassifier(n_neighbors=101)\n",
    "# Pass y as a 1D array to avoid DataConversionWarning\n",
    "knn.fit(scaledXTrainData, yTrain.values.ravel())\n",
    "\n",
    "# print('score:', knn.score(scaledXTestData, yTest.values.ravel()))\n",
    "\n",
    "pp = knn.predict_proba(scaledXTestData)\n",
    "\n",
    "print('\\n', pp)"
   ]
  },
  {
   "cell_type": "code",
   "execution_count": 87,
   "id": "25de35a0",
   "metadata": {},
   "outputs": [],
   "source": [
    "testData = testData.drop(columns = [\"Income\", \"Edu\", \"Insurance\"])\n",
    "\n",
    "# Impute missing values in testData using the same imputer as trainData\n",
    "imputedTestData = imputer.fit_transform(testData)\n",
    "\n",
    "imputedTestData = pandas.DataFrame(imputedTestData, columns=testData.columns)\n",
    "\n",
    "# Select features for prediction (same as x)\n",
    "xTestData = imputedTestData[[\"Sex\", \"Age\", \"Race\", \"Systolic\", \"Diastolic\", \"Pulse\", \"BMI\", \"HDL\", \"Trig\", \"LDL\", \"TCHOL\", \"eGFR\", \"CurrentSmoker\", \"Diabetes\"]]\n",
    "\n",
    "# Scale test data using the fitted scaler\n",
    "scaledXTestDataForPrediction = scaler.transform(xTestData)\n",
    "\n",
    "# Predict probabilities\n",
    "mi_prob = knn.predict_proba(scaledXTestDataForPrediction)[:, 1]\n",
    "\n",
    "\n",
    "# Add probability column to imputedTestData\n",
    "imputedTestData[\"MI_Probability\"] = mi_prob\n",
    "\n",
    "finalData = imputedTestData[[\"ID\", \"MI_Probability\"]]\n",
    "\n",
    "# Save to CSV\n",
    "finalData.to_csv(\"test_with_prob.csv\", index=False)\n"
   ]
  }
 ],
 "metadata": {
  "kernelspec": {
   "display_name": ".venv",
   "language": "python",
   "name": "python3"
  },
  "language_info": {
   "codemirror_mode": {
    "name": "ipython",
    "version": 3
   },
   "file_extension": ".py",
   "mimetype": "text/x-python",
   "name": "python",
   "nbconvert_exporter": "python",
   "pygments_lexer": "ipython3",
   "version": "3.12.3"
  }
 },
 "nbformat": 4,
 "nbformat_minor": 5
}

{
 "cells": [
  {
   "cell_type": "code",
   "execution_count": 5,
   "id": "94aa4f32",
   "metadata": {},
   "outputs": [],
   "source": [
    "import pandas\n",
    "from sklearn.impute import KNNImputer\n",
    "from sklearn.preprocessing import StandardScaler\n",
    "from sklearn.neighbors import KNeighborsClassifier\n",
    "from sklearn.pipeline import Pipeline"
   ]
  },
  {
   "cell_type": "code",
   "execution_count": 6,
   "id": "5f0a17fa",
   "metadata": {},
   "outputs": [],
   "source": [
    "trainData = pandas.read_csv(\"NHANES_Data_P1_MI_train.csv\")\n",
    "testData = pandas.read_csv(\"NHANES_Data_P1_MI_test.csv\")"
   ]
  },
  {
   "cell_type": "code",
   "execution_count": null,
   "id": "b3eda777",
   "metadata": {},
   "outputs": [],
   "source": [
    "\n",
    "trainData = trainData.dropna(subset=[\"MI\"])"
   ]
  },
  {
   "cell_type": "code",
   "execution_count": null,
   "id": "78b3abd8",
   "metadata": {},
   "outputs": [
    {
     "name": "stdout",
     "output_type": "stream",
     "text": [
      "MI    702\n",
      "dtype: int64\n"
     ]
    }
   ],
   "source": [
    "# Prepare the data\n",
    "XTrain = trainData[[\"Sex\", \"Age\", \"Race\", \"BMI\",\"Systolic\", \"Diastolic\", \"Pulse\",\n",
    "                    \"BMI\", \"HDL\", \"Trig\", \"LDL\", \"TCHOL\", \"eGFR\", \"CurrentSmoker\", \"Diabetes\"]]\n",
    "yTrain = trainData[[\"MI\"]]\n",
    "\n",
    "XTest = testData[[\"Sex\", \"Age\", \"Race\", \"BMI\",\"Systolic\", \"Diastolic\", \"Pulse\",\n",
    "                    \"BMI\", \"HDL\", \"Trig\", \"LDL\", \"TCHOL\", \"eGFR\", \"CurrentSmoker\", \"Diabetes\"]]\n",
    "\n",
    "# ----------------------------------------------------\n",
    "\n",
    "\n",
    "\n",
    "# ----------------------------------------------------"
   ]
  },
  {
   "cell_type": "code",
   "execution_count": 8,
   "id": "52ad6873",
   "metadata": {},
   "outputs": [],
   "source": [
    "# clean data\n"
   ]
  }
 ],
 "metadata": {
  "kernelspec": {
   "display_name": ".venv",
   "language": "python",
   "name": "python3"
  },
  "language_info": {
   "codemirror_mode": {
    "name": "ipython",
    "version": 3
   },
   "file_extension": ".py",
   "mimetype": "text/x-python",
   "name": "python",
   "nbconvert_exporter": "python",
   "pygments_lexer": "ipython3",
   "version": "3.12.3"
  }
 },
 "nbformat": 4,
 "nbformat_minor": 5
}

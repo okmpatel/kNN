{
 "cells": [
  {
   "cell_type": "code",
   "execution_count": 37,
   "id": "94aa4f32",
   "metadata": {},
   "outputs": [],
   "source": [
    "import pandas\n",
    "from sklearn.impute import KNNImputer\n",
    "from sklearn.preprocessing import StandardScaler, RobustScaler\n",
    "from sklearn.neighbors import KNeighborsClassifier\n",
    "from sklearn.pipeline import Pipeline\n",
    "from sklearn.model_selection import train_test_split\n",
    "from sklearn.metrics import classification_report, confusion_matrix\n",
    "import matplotlib.pyplot as plt"
   ]
  },
  {
   "cell_type": "code",
   "execution_count": 38,
   "id": "5f0a17fa",
   "metadata": {},
   "outputs": [],
   "source": [
    "# read the csv files\n",
    "trainData = pandas.read_csv(\"NHANES_Data_P1_MI_train.csv\")\n",
    "testData = pandas.read_csv(\"NHANES_Data_P1_MI_test.csv\")"
   ]
  },
  {
   "cell_type": "code",
   "execution_count": 39,
   "id": "b3eda777",
   "metadata": {},
   "outputs": [],
   "source": [
    "# Remove rows that have missing \"MI\" and drop columns that are not needed\n",
    "trainData = trainData.dropna(subset=[\"MI\"])\n",
    "trainData = trainData.drop(columns = [\"ID\", \"Income\", \"Edu\", \"Insurance\"])"
   ]
  },
  {
   "cell_type": "code",
   "execution_count": 40,
   "id": "52ad6873",
   "metadata": {},
   "outputs": [],
   "source": [
    "# clean data\n",
    "imputer = KNNImputer(n_neighbors=10)\n",
    "imputerTrainData = imputer.fit_transform(trainData)\n",
    "imputerTrainData = pandas.DataFrame(imputerTrainData, columns=trainData.columns)"
   ]
  },
  {
   "cell_type": "code",
   "execution_count": 41,
   "id": "78b3abd8",
   "metadata": {},
   "outputs": [],
   "source": [
    "# Prepare the data\n",
    "x = imputerTrainData[[\"Sex\", \"Age\", \"Race\", \"Systolic\", \"Diastolic\", \"Pulse\", \"BMI\", \"HDL\", \"Trig\", \"LDL\", \"TCHOL\", \"eGFR\", \"CurrentSmoker\", \"Diabetes\"]]\n",
    "y = imputerTrainData[[\"MI\"]]"
   ]
  },
  {
   "cell_type": "code",
   "execution_count": 42,
   "id": "0f5f3217",
   "metadata": {},
   "outputs": [],
   "source": [
    "# split the data into training and testing sets\n",
    "xTrain, xTest, yTrain, yTest = train_test_split(x, y, test_size=0.2, random_state=42)"
   ]
  },
  {
   "cell_type": "code",
   "execution_count": 43,
   "id": "e301c7ad",
   "metadata": {},
   "outputs": [],
   "source": [
    "# scale data using robustScaler\n",
    "scaler = RobustScaler()\n",
    "scaledXTrainData = scaler.fit_transform(xTrain)\n",
    "scaledXTestData = scaler.transform(xTest)"
   ]
  },
  {
   "cell_type": "code",
   "execution_count": null,
   "id": "bbba14ee",
   "metadata": {},
   "outputs": [
    {
     "data": {
      "image/png": "[encoded data removed]",
      "text/plain": [
       "<Figure size 1000x600 with 1 Axes>"
      ]
     },
     "metadata": {},
     "output_type": "display_data"
    },
    {
     "name": "stdout",
     "output_type": "stream",
     "text": [
      "Best k value:  15 \n",
      "Accuracy:  0.9604212055192447\n"
     ]
    }
   ],
   "source": [
    "# find the best k value and plot the accuracies of eack k\n",
    "kRange = range(1, 51)\n",
    "accuracies = []\n",
    "for k in kRange:\n",
    "    knn = KNeighborsClassifier(n_neighbors=k)\n",
    "    knn.fit(scaledXTrainData, yTrain.values.ravel())\n",
    "    score = knn.score(scaledXTestData, yTest.values.ravel())\n",
    "    accuracies.append(score)\n",
    "\n",
    "plt.style.use(\"dark_background\")\n",
    "plt.figure(figsize=(10,6))\n",
    "plt.plot(kRange, accuracies,marker='o')\n",
    "plt.xlabel(\"k\")\n",
    "plt.ylabel(\"Accuracy\")\n",
    "plt.title(\"Accuracy with different k\")\n",
    "plt.grid(True)\n",
    "plt.show()\n",
    "\n",
    "bestK = kRange[accuracies.index(max(accuracies))]\n",
    "print(f'Best k value: ',bestK,'\\nAccuracy: ', max(accuracies))"
   ]
  },
  {
   "cell_type": "code",
   "execution_count": 45,
   "id": "9b834899",
   "metadata": {},
   "outputs": [
    {
     "name": "stdout",
     "output_type": "stream",
     "text": [
      "score: 0.9604212055192447\n",
      "\n",
      " The predicted probability:\n",
      " [[0.  1. ]\n",
      " [0.  1. ]\n",
      " [0.  1. ]\n",
      " ...\n",
      " [0.2 0.8]\n",
      " [0.2 0.8]\n",
      " [0.  1. ]]\n"
     ]
    }
   ],
   "source": [
    "# create and train the model\n",
    "\n",
    "# for distanc metrics i am going to use defualt minkowski\n",
    "KNN = KNeighborsClassifier(n_neighbors=bestK)\n",
    "KNN.fit(scaledXTrainData, yTrain.values.ravel())\n",
    "pp = KNN.predict_proba(scaledXTestData)\n",
    "\n",
    "print(\"score:\", KNN.score(scaledXTestData, yTest.values.ravel()))\n",
    "print(\"\\n The predicted probability:\\n\", pp)"
   ]
  },
  {
   "cell_type": "code",
   "execution_count": 46,
   "id": "25de35a0",
   "metadata": {},
   "outputs": [],
   "source": [
    "# Impute missing values in testData\n",
    "\n",
    "testData = testData.drop(columns = [\"Income\", \"Edu\", \"Insurance\"])\n",
    "imputedTestData = imputer.fit_transform(testData)\n",
    "imputedTestData = pandas.DataFrame(imputedTestData, columns=testData.columns)"
   ]
  },
  {
   "cell_type": "code",
   "execution_count": 47,
   "id": "ac5ee786",
   "metadata": {},
   "outputs": [],
   "source": [
    "# scale and predict test data\n",
    "\n",
    "xTestData = imputedTestData[[\"Sex\", \"Age\", \"Race\", \"Systolic\", \"Diastolic\", \"Pulse\", \"BMI\", \"HDL\", \"Trig\", \"LDL\", \"TCHOL\", \"eGFR\", \"CurrentSmoker\", \"Diabetes\"]]\n",
    "scaledXTestDataForPrediction = scaler.transform(xTestData)\n",
    "miProb = KNN.predict_proba(scaledXTestDataForPrediction)[:, 1]"
   ]
  },
  {
   "cell_type": "code",
   "execution_count": 48,
   "id": "dc0810fe",
   "metadata": {},
   "outputs": [],
   "source": [
    "# Add probability column and save to CSV\n",
    "\n",
    "imputedTestData[\"ProbabilityMI\"] = miProb\n",
    "finalData = imputedTestData[[\"ID\", \"ProbabilityMI\"]]\n",
    "finalData.to_csv(\"test_with_prob.csv\", index=False)"
   ]
  }
 ],
 "metadata": {
  "kernelspec": {
   "display_name": ".venv",
   "language": "python",
   "name": "python3"
  },
  "language_info": {
   "codemirror_mode": {
    "name": "ipython",
    "version": 3
   },
   "file_extension": ".py",
   "mimetype": "text/x-python",
   "name": "python",
   "nbconvert_exporter": "python",
   "pygments_lexer": "ipython3",
   "version": "3.12.3"
  }
 },
 "nbformat": 4,
 "nbformat_minor": 5
}
